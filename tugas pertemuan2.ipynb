{
  "nbformat": 4,
  "nbformat_minor": 0,
  "metadata": {
    "colab": {
      "provenance": [],
      "authorship_tag": "ABX9TyM+eqP+e2qgq1djEHCdU2EC",
      "include_colab_link": true
    },
    "kernelspec": {
      "name": "python3",
      "display_name": "Python 3"
    },
    "language_info": {
      "name": "python"
    }
  },
  "cells": [
    {
      "cell_type": "markdown",
      "metadata": {
        "id": "view-in-github",
        "colab_type": "text"
      },
      "source": [
        "<a href=\"https://colab.research.google.com/github/Andree-trg/Pemerograman-Dasar/blob/main/tugas%20pertemuan2.ipynb\" target=\"_parent\"><img src=\"https://colab.research.google.com/assets/colab-badge.svg\" alt=\"Open In Colab\"/></a>"
      ]
    },
    {
      "cell_type": "code",
      "execution_count": 6,
      "metadata": {
        "colab": {
          "base_uri": "https://localhost:8080/"
        },
        "id": "3gEKL1vtQknN",
        "outputId": "44e76255-2174-40ba-9c90-1a011bbececc"
      },
      "outputs": [
        {
          "output_type": "stream",
          "name": "stdout",
          "text": [
            "Nama Depan : Andre\n",
            "Nama Belakang : Tarigan\n",
            "Umur : 21\n",
            "Status Pernikahan : False\n"
          ]
        }
      ],
      "source": [
        "#1_TODO\n",
        "\n",
        "firstName = \"Andre\"\n",
        "lastName = \"Tarigan\"\n",
        "age = 21\n",
        "isMarried = False\n",
        "\n",
        "print(\"Nama Depan :\", firstName)\n",
        "print(\"Nama Belakang :\", lastName)\n",
        "print(\"Umur :\", age)\n",
        "print(\"Status Pernikahan :\", isMarried)"
      ]
    },
    {
      "cell_type": "code",
      "source": [
        "#2_TODO\n",
        "\n",
        "data_diri = {\n",
        "\"firstName\": \"Andre\",\n",
        "\"lastName\": \"Tarigan\",\n",
        "\"age\": 21,\n",
        "\"isMarried\": False\n",
        "}\n",
        "\n",
        "\n",
        "print(\"==== BIODATA ====\")\n",
        "print(f\"Nama Depan       : {data_diri['firstName']}\")\n",
        "print(f\"Nama Belakang    : {data_diri['lastName']}\")\n",
        "print(f\"Umur             : {data_diri['age']} tahun\")\n",
        "print(f\"Status Menikah   : {'Sudah Menikah' if data_diri['isMarried'] else 'Belum Menikah'}\")\n",
        "\n"
      ],
      "metadata": {
        "colab": {
          "base_uri": "https://localhost:8080/"
        },
        "id": "pQ2TPyXGnI5F",
        "outputId": "edaccd67-0595-4f1e-c03c-d14e0124ce8d"
      },
      "execution_count": 20,
      "outputs": [
        {
          "output_type": "stream",
          "name": "stdout",
          "text": [
            "==== BIODATA ====\n",
            "Nama Depan       : Andre\n",
            "Nama Belakang    : Tarigan\n",
            "Umur             : 21 tahun\n",
            "Status Menikah   : Belum Menikah\n"
          ]
        }
      ]
    },
    {
      "cell_type": "code",
      "source": [
        "#3_TODO\n",
        "\n",
        "inspeksi = [\n",
        "\"pemahaman terhadap rencana dan desain\",\n",
        "\"ketersediaan bahan dan peralatan\",\n",
        "\"pengawasan pekerjaan\",\n",
        "\"kualitas konstruksi\",\n",
        "\"keselamatan kerja\",\n",
        "\"koordinasi dengan pemilik proyek\"\n",
        "]\n",
        "\n",
        "\n",
        "print(\"Daftar Inspeksi:\")\n",
        "for item in inspeksi:\n",
        "    print(\"-\", item)"
      ],
      "metadata": {
        "colab": {
          "base_uri": "https://localhost:8080/"
        },
        "id": "Yirm-STEoklG",
        "outputId": "e98041c1-0eb8-409c-82a5-3d64a56421ed"
      },
      "execution_count": 19,
      "outputs": [
        {
          "output_type": "stream",
          "name": "stdout",
          "text": [
            "Daftar Inspeksi:\n",
            "- pemahaman terhadap rencana dan desain\n",
            "- ketersediaan bahan dan peralatan\n",
            "- pengawasan pekerjaan\n",
            "- kualitas konstruksi\n",
            "- keselamatan kerja\n",
            "- koordinasi dengan pemilik proyek\n"
          ]
        }
      ]
    },
    {
      "cell_type": "code",
      "source": [
        "#4_TODO\n",
        "\n",
        "startTime = {\n",
        "\"HH\": 9,\n",
        "\"mm\": 23,\n",
        "\"ss\": 57\n",
        "}\n",
        "\n",
        "\n",
        "endTime = {\n",
        "\"HH\": 15,\n",
        "\"mm\": 25,\n",
        "\"ss\": 43\n",
        "}\n",
        "\n",
        "\n",
        "print(\"Waktu Datang :\", f\"{startTime['HH']:02d}:{startTime['mm']:02d}:{startTime['ss']:02d}\")\n",
        "print(\"Waktu Pulang :\", f\"{endTime['HH']:02d}:{endTime['mm']:02d}:{endTime['ss']:02d}\")"
      ],
      "metadata": {
        "colab": {
          "base_uri": "https://localhost:8080/"
        },
        "id": "A5RbbXOYs88J",
        "outputId": "4c4b0df2-3c78-4724-a058-693931910629"
      },
      "execution_count": 21,
      "outputs": [
        {
          "output_type": "stream",
          "name": "stdout",
          "text": [
            "Waktu Datang : 09:23:57\n",
            "Waktu Pulang : 15:25:43\n"
          ]
        }
      ]
    },
    {
      "cell_type": "code",
      "source": [
        "#5_TODO\n",
        "\n",
        "katalog_A = {\"Laptop\", \"Mouse\", \"Keyboard\", \"Monitor\"}\n",
        "katalog_B = {\"Printer\", \"Laptop\", \"Scanner\", \"Mouse\"}\n",
        "produk_diskon = (\"Laptop\", \"Printer\", \"Tablet\")\n",
        "\n",
        "\n",
        "katalog_lengkap = katalog_A.union(katalog_B)\n",
        "\n",
        "produk_promo_aktif = katalog_lengkap.intersection(produk_diskon)\n",
        "\n",
        "print(\"Katalog Lengkap:\", katalog_lengkap)\n",
        "print(\"Produk Promo Aktif:\", produk_promo_aktif)\n"
      ],
      "metadata": {
        "colab": {
          "base_uri": "https://localhost:8080/"
        },
        "id": "1pFteu8stZs6",
        "outputId": "7638a4f3-cbc7-4f92-9a75-29e08291826c"
      },
      "execution_count": 18,
      "outputs": [
        {
          "output_type": "stream",
          "name": "stdout",
          "text": [
            "Katalog Lengkap: {'Mouse', 'Laptop', 'Monitor', 'Printer', 'Scanner', 'Keyboard'}\n",
            "Produk Promo Aktif: {'Laptop', 'Printer'}\n"
          ]
        }
      ]
    }
  ]
}
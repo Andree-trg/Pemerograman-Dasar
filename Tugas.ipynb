{
  "nbformat": 4,
  "nbformat_minor": 0,
  "metadata": {
    "colab": {
      "provenance": [],
      "authorship_tag": "ABX9TyPxugAo6UdkZmrnPITH8EYA",
      "include_colab_link": true
    },
    "kernelspec": {
      "name": "python3",
      "display_name": "Python 3"
    },
    "language_info": {
      "name": "python"
    }
  },
  "cells": [
    {
      "cell_type": "markdown",
      "metadata": {
        "id": "view-in-github",
        "colab_type": "text"
      },
      "source": [
        "<a href=\"https://colab.research.google.com/github/Andree-trg/Pemerograman-Dasar/blob/main/Tugas.ipynb\" target=\"_parent\"><img src=\"https://colab.research.google.com/assets/colab-badge.svg\" alt=\"Open In Colab\"/></a>"
      ]
    },
    {
      "cell_type": "code",
      "source": [
        "# ... (kode awal)\n",
        "\n",
        "pilihan_str = input(\"Silahkan masukkan nomor pilihan Anda (1-4): \")\n",
        "pilihan = int(pilihan_str)\n",
        "\n",
        "# Inisialisasi variabel\n",
        "nama_pesanan = \"\"\n",
        "harga = 0\n",
        "total = 0 # Tambahkan inisialisasi total\n",
        "\n",
        "if pilihan == 1:\n",
        "    nama_pesanan = \"Kopi Hitam\"\n",
        "    harga = 12000\n",
        "    print(f\"Anda memesan: {nama_pesanan} dengan harga Rp {harga}\")\n",
        "elif pilihan == 2:\n",
        "    nama_pesanan = \"Teh Manis\"\n",
        "    harga = 8000\n",
        "    print(f\"Anda memesan: {nama_pesanan} dengan harga Rp {harga}\")\n",
        "elif pilihan == 3:\n",
        "    nama_pesanan = \"Roti Bakar\"\n",
        "    harga = 15000\n",
        "    print(f\"Anda memesan: {nama_pesanan} dengan harga Rp {harga}\")\n",
        "elif pilihan == 4:\n",
        "    nama_pesanan = \"Mie Instan\"\n",
        "    harga = 10000\n",
        "    print(f\"Anda memesan: {nama_pesanan} dengan harga Rp {harga}\")\n",
        "else:\n",
        "    print(\"Maaf, pilihan menu tidak valid. Silahkan jalankan ulang program.\")\n",
        "    harga = 0\n",
        "\n",
        "# Karena program ini hanya menghitung 1 item, maka total = harga\n",
        "total = harga\n",
        "\n",
        "# Disini kita pastikan program berakhir jika pilihan menu tidak valid (harga = 0)\n",
        "if harga > 0:\n",
        "    # --- LOGIKA DISKON DITAMBAHKAN DI SINI ---\n",
        "\n",
        "    diskon = 0\n",
        "    persentase_diskon = 0\n",
        "\n",
        "    # Kategori Diskon (Asumsi Batas Total Belanja)\n",
        "    # Batas ini dapat Anda tentukan sendiri dan jelaskan di laporan.\n",
        "    if total > 40000:\n",
        "        persentase_diskon = 0.70  # Diskon 70%\n",
        "    elif total >= 20000:\n",
        "        persentase_diskon = 0.50  # Diskon 50%\n",
        "    elif total >= 10000:\n",
        "        persentase_diskon = 0.30  # Diskon 30%\n",
        "    else:\n",
        "        persentase_diskon = 0\n",
        "\n",
        "    diskon = total * persentase_diskon\n",
        "    total_bayar = total - diskon # Total setelah diskon\n",
        "\n",
        "    # --- LANJUTKAN KE PEMBAYARAN DAN STRUK ---\n",
        "\n",
        "    # Ubah input yang meminta 'total' menjadi 'total_bayar'\n",
        "    uang_dibayar_str = input(f\"Total yang harus dibayar Rp {int(total_bayar)}. Masukkan jumlah uang Anda: \")\n",
        "    uang_dibayar_int = int(uang_dibayar_str)\n",
        "    uang_dibayar = uang_dibayar_int\n",
        "\n",
        "    if uang_dibayar >= total_bayar:\n",
        "        kembalian = uang_dibayar - total_bayar\n",
        "\n",
        "        # Cetak Struk Baru\n",
        "        print(\"\\n=== Struk Pembayaran Sederhana ===\")\n",
        "        print(f\"Pesanan Anda  : {nama_pesanan}\")\n",
        "        print(f\"Harga Awal    : Rp {harga}\")\n",
        "        print(f\"Diskon        : {int(persentase_diskon * 100)}% (Rp {int(diskon)})\")\n",
        "        print(f\"Total Harga   : Rp {int(total_bayar)}\") # Menggunakan total_bayar\n",
        "        print(f\"Uang Dibayar  : Rp {uang_dibayar}\")\n",
        "        print(f\"Kembalian     : Rp {int(kembalian)}\")\n",
        "        print(\"Terima kasih telah berbelanja!\")\n",
        "    else:\n",
        "        kekurangan = total_bayar - uang_dibayar\n",
        "        print(f\"Maaf, uang anda kurang sebesar Rp {int(kekurangan)}\")\n",
        "\n",
        "# ... (kode else untuk menu tidak valid)"
      ],
      "metadata": {
        "colab": {
          "base_uri": "https://localhost:8080/"
        },
        "id": "C5E_lCscqLXx",
        "outputId": "8412fe73-3626-4453-f52f-9be12cef10fc"
      },
      "execution_count": 3,
      "outputs": [
        {
          "output_type": "stream",
          "name": "stdout",
          "text": [
            "Silahkan masukkan nomor pilihan Anda (1-4): 3\n",
            "Anda memesan: Roti Bakar dengan harga Rp 15000\n",
            "Total yang harus dibayar Rp 10500. Masukkan jumlah uang Anda: 100000\n",
            "\n",
            "=== Struk Pembayaran Sederhana ===\n",
            "Pesanan Anda  : Roti Bakar\n",
            "Harga Awal    : Rp 15000\n",
            "Diskon        : 30% (Rp 4500)\n",
            "Total Harga   : Rp 10500\n",
            "Uang Dibayar  : Rp 100000\n",
            "Kembalian     : Rp 89500\n",
            "Terima kasih telah berbelanja!\n"
          ]
        }
      ]
    }
  ]
}
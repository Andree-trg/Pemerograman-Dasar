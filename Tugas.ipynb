{
  "nbformat": 4,
  "nbformat_minor": 0,
  "metadata": {
    "colab": {
      "provenance": [],
      "authorship_tag": "ABX9TyP2+Xq1DSC8e+P7TvXhHpNr",
      "include_colab_link": true
    },
    "kernelspec": {
      "name": "python3",
      "display_name": "Python 3"
    },
    "language_info": {
      "name": "python"
    }
  },
  "cells": [
    {
      "cell_type": "markdown",
      "metadata": {
        "id": "view-in-github",
        "colab_type": "text"
      },
      "source": [
        "<a href=\"https://colab.research.google.com/github/Andree-trg/Pemerograman-Dasar/blob/main/Tugas.ipynb\" target=\"_parent\"><img src=\"https://colab.research.google.com/assets/colab-badge.svg\" alt=\"Open In Colab\"/></a>"
      ]
    },
    {
      "cell_type": "code",
      "execution_count": null,
      "metadata": {
        "colab": {
          "base_uri": "https://localhost:8080/"
        },
        "id": "vq8U07aLi3SU",
        "outputId": "af6559fb-36d9-43f0-be2f-6cc0347ec12c"
      },
      "outputs": [
        {
          "output_type": "stream",
          "name": "stdout",
          "text": [
            "Subtotal: Rp 115000\n",
            "Diskon   : Rp 17250.0\n",
            "Setelah Diskon: Rp 97750.0\n",
            "PPN 11%  : Rp 10752.5\n",
            "Total Bayar: Rp 108502.5\n"
          ]
        }
      ],
      "source": [
        "# Program Kasir Sederhana\n",
        "\n",
        "# Input: daftar harga item yang dibeli\n",
        "items = [30000, 25000, 60000]   # contoh: kopi, roti, dll\n",
        "is_member = True  # apakah pelanggan member (True/False)\n",
        "\n",
        "# 1. Hitung Subtotal\n",
        "subtotal = sum(items)\n",
        "\n",
        "# 2. Evaluasi Syarat Diskon\n",
        "if is_member and subtotal > 100000:\n",
        "    discount = 0.15 * subtotal\n",
        "else:\n",
        "    discount = 0\n",
        "\n",
        "# 3. Hitung Harga Setelah Diskon\n",
        "after_discount = subtotal - discount\n",
        "\n",
        "# 4. Hitung PPN (11%)\n",
        "ppn = 0.11 * after_discount\n",
        "\n",
        "# 5. Hitung Total Akhir\n",
        "total = after_discount + ppn\n",
        "\n",
        "# Output hasil\n",
        "print(\"Subtotal: Rp\", subtotal)\n",
        "print(\"Diskon   : Rp\", discount)\n",
        "print(\"Setelah Diskon: Rp\", after_discount)\n",
        "print(\"PPN 11%  : Rp\", ppn)\n",
        "print(\"Total Bayar: Rp\", total)\n"
      ]
    }
  ]
}
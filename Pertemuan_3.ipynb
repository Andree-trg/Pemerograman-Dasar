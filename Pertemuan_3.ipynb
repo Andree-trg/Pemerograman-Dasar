{
  "nbformat": 4,
  "nbformat_minor": 0,
  "metadata": {
    "colab": {
      "provenance": [],
      "authorship_tag": "ABX9TyO7T/WsO8rlXaKDwt67eAkq",
      "include_colab_link": true
    },
    "kernelspec": {
      "name": "python3",
      "display_name": "Python 3"
    },
    "language_info": {
      "name": "python"
    }
  },
  "cells": [
    {
      "cell_type": "markdown",
      "metadata": {
        "id": "view-in-github",
        "colab_type": "text"
      },
      "source": [
        "<a href=\"https://colab.research.google.com/github/Andree-trg/Pemerograman-Dasar/blob/main/Pertemuan_3.ipynb\" target=\"_parent\"><img src=\"https://colab.research.google.com/assets/colab-badge.svg\" alt=\"Open In Colab\"/></a>"
      ]
    },
    {
      "cell_type": "code",
      "execution_count": 40,
      "metadata": {
        "colab": {
          "base_uri": "https://localhost:8080/"
        },
        "id": "c8ou4hTDYBoY",
        "outputId": "bfe53ee6-bbfb-419e-a322-18cd36a79d69"
      },
      "outputs": [
        {
          "name": "stdout",
          "output_type": "stream",
          "text": [
            "Berapa porsi makan yang Anda beli? :1\n",
            "Siapa Nama Pelanggan ? :Andre\n"
          ]
        }
      ],
      "source": [
        "total = input(\"Berapa porsi makan yang Anda beli? :\")\n",
        "Nama = input(\"Siapa Nama Pelanggan ? :\")"
      ]
    },
    {
      "cell_type": "code",
      "source": [
        "total = int (input(\"Berapa porsi makan yang Anda beli? :\"))\n",
        "Nama = str (input(\"Siapa Nama Pelanggan ? :\"))"
      ],
      "metadata": {
        "colab": {
          "base_uri": "https://localhost:8080/"
        },
        "id": "3UAi8hWBYGxd",
        "outputId": "92490226-cf2b-4e4e-fbfe-aef0d31b78f3"
      },
      "execution_count": 2,
      "outputs": [
        {
          "name": "stdout",
          "output_type": "stream",
          "text": [
            "Berapa porsi makan yang Anda beli? :1\n",
            "Siapa Nama Pelanggan ? :Andre\n"
          ]
        }
      ]
    },
    {
      "cell_type": "code",
      "source": [
        "total = float(input(\"Berapa porsi makan yang Anda beli? : \"))\n",
        "Nama = str(input(\"Siapa Nama Pelanggan ? : \"))\n",
        "print(f\"Nama Pelanggan : {Nama}\")\n",
        "print(f\"Jumlah Porsi   : {total}\")\n"
      ],
      "metadata": {
        "colab": {
          "base_uri": "https://localhost:8080/"
        },
        "id": "q9atq9ySrH8K",
        "outputId": "df7116e9-d5e8-4a5a-ebde-9648b996f098"
      },
      "execution_count": 42,
      "outputs": [
        {
          "output_type": "stream",
          "name": "stdout",
          "text": [
            "Berapa porsi makan yang Anda beli? : 1\n",
            "Siapa Nama Pelanggan ? : Andre\n",
            "Nama Pelanggan : Andre\n",
            "Jumlah Porsi   : 1.0\n"
          ]
        }
      ]
    },
    {
      "cell_type": "code",
      "source": [
        "food = \"Mie Ayam Bakso\"\n",
        "print(\"Hendi sedang memesan\", food)"
      ],
      "metadata": {
        "colab": {
          "base_uri": "https://localhost:8080/"
        },
        "id": "rFhdj_f5Yv9s",
        "outputId": "6cad2b0c-0a13-46ca-b4b4-a2203940e18d"
      },
      "execution_count": 3,
      "outputs": [
        {
          "output_type": "stream",
          "name": "stdout",
          "text": [
            "Hendi sedang memesan Mie Ayam Bakso\n"
          ]
        }
      ]
    },
    {
      "cell_type": "code",
      "source": [
        "food = \"Mie ayam bakso\"\n",
        "print(\"Hendi sedang memesan\", food)\n",
        "print(\"Hendi sedang memesan \"+ food)\n",
        "print(\"Hendi sedang memesan %s\" % (food))"
      ],
      "metadata": {
        "colab": {
          "base_uri": "https://localhost:8080/"
        },
        "id": "pPh-aAaFbHEa",
        "outputId": "8c2824e3-295a-4a04-e33c-a8e3aff3f287"
      },
      "execution_count": 5,
      "outputs": [
        {
          "output_type": "stream",
          "name": "stdout",
          "text": [
            "Hendi sedang memesan Mie ayam bakso\n",
            "Hendi sedang memesan Mie ayam bakso\n",
            "Hendi sedang memesan Mie ayam bakso\n"
          ]
        }
      ]
    },
    {
      "cell_type": "code",
      "source": [
        "umur = 20\n",
        "print(\"Umur saya %d tahun\" % umur)\n",
        "\n",
        "nilai = 87.56789\n",
        "print(\"Nilai ujian saya adalah %.2f\" % nilai)\n",
        "\n",
        "makanan = \"Mi ayam bakso\"\n",
        "print(\"Hendi sedang memesan %s\" % makanan)\n",
        "\n",
        "angka_hex = 255\n",
        "print(\"Bilangan %d dalam heksadesimal adalah %x\" % (angka_hex, angka_hex))\n",
        "\n",
        "angka_oktal = 64\n",
        "print(\"Bilangan %d dalam oktal adalah %o\" % (angka_oktal, angka_oktal))\n"
      ],
      "metadata": {
        "colab": {
          "base_uri": "https://localhost:8080/"
        },
        "id": "rzc_Jq7tqjHq",
        "outputId": "922f7780-30b3-4d7b-f1ae-7e0da941df2c"
      },
      "execution_count": 43,
      "outputs": [
        {
          "output_type": "stream",
          "name": "stdout",
          "text": [
            "Umur saya 20 tahun\n",
            "Nilai ujian saya adalah 87.57\n",
            "Hendi sedang memesan Mi ayam bakso\n",
            "Bilangan 255 dalam heksadesimal adalah ff\n",
            "Bilangan 64 dalam oktal adalah 100\n"
          ]
        }
      ]
    },
    {
      "cell_type": "code",
      "source": [
        "a = 20\n",
        "b = 5\n",
        "print(\"Penjumlahan:\", a + b)\n",
        "print(\"Pengurangan:\", a - b)\n",
        "print(\"Perkalian:\", a * b)\n",
        "print(\"Pembagian:\", a / b)"
      ],
      "metadata": {
        "colab": {
          "base_uri": "https://localhost:8080/"
        },
        "id": "OA0cwp_Nb6Mb",
        "outputId": "d6d69931-a7be-4786-8d0b-d82d2dab428f"
      },
      "execution_count": 8,
      "outputs": [
        {
          "output_type": "stream",
          "name": "stdout",
          "text": [
            "Penjumlahan: 25\n",
            "Pengurangan: 15\n",
            "Perkalian: 100\n",
            "Pembagian: 4.0\n"
          ]
        }
      ]
    },
    {
      "cell_type": "code",
      "source": [
        "harga_makan = int(input(\"Berapa harga mie ayam per porsi? \"))\n",
        "jumlah_makan = int(input(\"Berapa porsi yang Anda beli? \"))\n",
        "total_makan = harga_makan * jumlah_makan\n",
        "\n",
        "print(f\"Harga makan per porsi = {harga_makan}, totalnya adalah {total_makan}\")"
      ],
      "metadata": {
        "colab": {
          "base_uri": "https://localhost:8080/"
        },
        "id": "ZkYixlQ6c2BL",
        "outputId": "2312c959-9dca-4876-d59e-7c0f15826dbc"
      },
      "execution_count": 12,
      "outputs": [
        {
          "output_type": "stream",
          "name": "stdout",
          "text": [
            "Berapa harga mie ayam per porsi? 10000\n",
            "Berapa porsi yang Anda beli? 1\n",
            "Harga makan per porsi = 10000, totalnya adalah 10000\n"
          ]
        }
      ]
    },
    {
      "cell_type": "code",
      "source": [
        "bilangan = 8\n",
        "hasil = (bilangan > 0) and (bilangan % 2 == 0)\n",
        "print(\"Genap dan positif?\", hasil)"
      ],
      "metadata": {
        "colab": {
          "base_uri": "https://localhost:8080/"
        },
        "id": "79s_5MLNeJay",
        "outputId": "4ef6cb79-138f-4fb5-cd64-51d4ba75437c"
      },
      "execution_count": 13,
      "outputs": [
        {
          "output_type": "stream",
          "name": "stdout",
          "text": [
            "Genap dan positif? True\n"
          ]
        }
      ]
    },
    {
      "cell_type": "code",
      "source": [
        "#konversi waktu\n",
        "total_detik = 3600\n",
        "jam = total_detik // 3600\n",
        "sisa_detik = total_detik % 3600\n",
        "menit = sisa_detik // 6\n",
        "detik = sisa_detik % 60\n",
        "print(f\"Hasil Konversi: {jam} Jam, {menit} Menit, {detik} Detik\")"
      ],
      "metadata": {
        "colab": {
          "base_uri": "https://localhost:8080/"
        },
        "id": "CBmYbmvzejZS",
        "outputId": "084c9c34-712f-465a-cf85-61a98bb4db79"
      },
      "execution_count": 14,
      "outputs": [
        {
          "output_type": "stream",
          "name": "stdout",
          "text": [
            "Hasil Konversi: 1 Jam, 0 Menit, 0 Detik\n"
          ]
        }
      ]
    },
    {
      "cell_type": "code",
      "source": [
        "total_detik = 3600\n",
        "jam = total_detik // 3600\n",
        "sisa_detik = total_detik % 3600\n",
        "menit = sisa_detik // 6\n",
        "detik = sisa_detik % 60\n",
        "print(f\"Hasil Konversi: {jam} Jam, {menit} Menit, {detik} Detik\")\n",
        "total_detik = int (input(\"total_detik\"))"
      ],
      "metadata": {
        "colab": {
          "base_uri": "https://localhost:8080/"
        },
        "id": "b7sQ3Fnbpgzf",
        "outputId": "fe437c98-d285-4d14-ad4a-820f967da7b5"
      },
      "execution_count": 37,
      "outputs": [
        {
          "name": "stdout",
          "output_type": "stream",
          "text": [
            "Hasil Konversi: 1 Jam, 0 Menit, 0 Detik\n",
            "total_detik358200\n"
          ]
        }
      ]
    },
    {
      "cell_type": "code",
      "source": [
        "tugas = 80\n",
        "uts = 70\n",
        "uas = 90\n",
        "nilai_akhir = (0.3 * tugas) + (0.3 * uts) + (0.4 * uas)\n",
        "print(\"Nilai akhir =\", nilai_akhir)"
      ],
      "metadata": {
        "colab": {
          "base_uri": "https://localhost:8080/"
        },
        "id": "I2HE2Y_afaAs",
        "outputId": "a4d5342d-c718-4316-d20a-73b2f31c3645"
      },
      "execution_count": 20,
      "outputs": [
        {
          "output_type": "stream",
          "name": "stdout",
          "text": [
            "Nilai akhir = 81.0\n"
          ]
        }
      ]
    },
    {
      "cell_type": "code",
      "source": [
        "nilai_mahasiswa = 85 # isikan dengan nilai\n",
        "standar_kelulusan = 75 # isikan nilai standard\n",
        "apakah_lulus = nilai_mahasiswa >= standar_kelulusan\n",
        "perlu_remedial = nilai_mahasiswa < standar_kelulusan\n",
        "print(f\"Nilai Mahasiswa: {nilai_mahasiswa}\")\n",
        "print(f\"Standar Kelulusan: {standar_kelulusan}\")\n",
        "print(f\"Apakah Mahasiswa Lulus? {apakah_lulus}\")\n",
        "print(f\"Perlu Remedial? {perlu_remedial}\")"
      ],
      "metadata": {
        "colab": {
          "base_uri": "https://localhost:8080/"
        },
        "id": "GUjxTVHegUlK",
        "outputId": "ed7fdeea-7798-472b-d071-fa8be0d1d51e"
      },
      "execution_count": 33,
      "outputs": [
        {
          "output_type": "stream",
          "name": "stdout",
          "text": [
            "Nilai Mahasiswa: 85\n",
            "Standar Kelulusan: 75\n",
            "Apakah Mahasiswa Lulus? True\n",
            "Perlu Remedial? False\n"
          ]
        }
      ]
    },
    {
      "cell_type": "code",
      "source": [
        "tugas1 = float(input(\"Masukkan nilai Tugas 1: \"))\n",
        "tugas2 = float(input(\"Masukkan nilai Tugas 2: \"))\n",
        "tugas3 = float(input(\"Masukkan nilai Tugas 3: \"))\n",
        "uts = float(input(\"Masukkan nilai UTS: \"))\n",
        "uas = float(input(\"Masukkan nilai UAS: \"))\n",
        "\n",
        "nilai_mahasiswa = (tugas1 + tugas2 + tugas3 + uts + uas) / 5\n",
        "\n",
        "standar_kelulusan = float(input(\"Masukkan standar kelulusan: \"))\n",
        "\n",
        "apakah_lulus = nilai_mahasiswa >= standar_kelulusan\n",
        "perlu_remedial = nilai_mahasiswa < standar_kelulusan\n",
        "\n",
        "print(f\"\\nNilai Mahasiswa     : {nilai_mahasiswa}\")\n",
        "print(f\"Standar Kelulusan   : {standar_kelulusan}\")\n",
        "print(f\"Apakah Mahasiswa Lulus? {apakah_lulus}\")\n",
        "print(f\"Perlu Remedial?       {perlu_remedial}\")\n"
      ],
      "metadata": {
        "colab": {
          "base_uri": "https://localhost:8080/"
        },
        "id": "khisjtYBpRDA",
        "outputId": "4c489b8f-6397-4fd6-9a87-6070517969ea"
      },
      "execution_count": 44,
      "outputs": [
        {
          "output_type": "stream",
          "name": "stdout",
          "text": [
            "Masukkan nilai Tugas 1: 85\n",
            "Masukkan nilai Tugas 2: 90\n",
            "Masukkan nilai Tugas 3: 100\n",
            "Masukkan nilai UTS: 88\n",
            "Masukkan nilai UAS: 90\n",
            "Masukkan standar kelulusan: 79\n",
            "\n",
            "Nilai Mahasiswa     : 90.6\n",
            "Standar Kelulusan   : 79.0\n",
            "Apakah Mahasiswa Lulus? True\n",
            "Perlu Remedial?       False\n"
          ]
        }
      ]
    },
    {
      "cell_type": "code",
      "source": [
        "belanja = 850000\n",
        "diskon = (0, 0.1 * belanja)[belanja > 50000]\n",
        "total_harga = belanja - diskon\n",
        "print(\"Total harga setelah diskon=\", total_harga)"
      ],
      "metadata": {
        "colab": {
          "base_uri": "https://localhost:8080/"
        },
        "id": "XweARI1whT_i",
        "outputId": "c5286d68-a5c3-4fd9-afa8-12262c108ff2"
      },
      "execution_count": 34,
      "outputs": [
        {
          "output_type": "stream",
          "name": "stdout",
          "text": [
            "Total harga setelah diskon= 765000.0\n"
          ]
        }
      ]
    },
    {
      "cell_type": "code",
      "source": [
        "belanja = 1200000\n",
        "diskon = (0, 0.35 * belanja)[belanja > 50000]\n",
        "total_harga = belanja - diskon\n",
        "print(\"Total harga setelah diskon=\", total_harga)"
      ],
      "metadata": {
        "colab": {
          "base_uri": "https://localhost:8080/"
        },
        "id": "a08C1KG4pH1J",
        "outputId": "ed76c095-79db-426c-db81-7b88ae42f58f"
      },
      "execution_count": 35,
      "outputs": [
        {
          "output_type": "stream",
          "name": "stdout",
          "text": [
            "Total harga setelah diskon= 780000.0\n"
          ]
        }
      ]
    }
  ]
}
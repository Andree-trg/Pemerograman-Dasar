{
  "nbformat": 4,
  "nbformat_minor": 0,
  "metadata": {
    "colab": {
      "provenance": [],
      "authorship_tag": "ABX9TyM888xqgRVGjqHePuU/kpjj",
      "include_colab_link": true
    },
    "kernelspec": {
      "name": "python3",
      "display_name": "Python 3"
    },
    "language_info": {
      "name": "python"
    }
  },
  "cells": [
    {
      "cell_type": "markdown",
      "metadata": {
        "id": "view-in-github",
        "colab_type": "text"
      },
      "source": [
        "<a href=\"https://colab.research.google.com/github/Andree-trg/Pemerograman-Dasar/blob/main/Latihan.ipynb\" target=\"_parent\"><img src=\"https://colab.research.google.com/assets/colab-badge.svg\" alt=\"Open In Colab\"/></a>"
      ]
    },
    {
      "cell_type": "code",
      "source": [
        "angka = int(input(\"Masukkan angka: \"))\n",
        "if angka % 5 == 0:\n",
        "    print(\"Kelipatan 5\")\n",
        "else:\n",
        "    print(\"Bukan kelipatan 5\")"
      ],
      "metadata": {
        "colab": {
          "base_uri": "https://localhost:8080/"
        },
        "id": "zx5uQebSjYvg",
        "outputId": "94686ced-1095-4cbf-a059-93c97be00ea9"
      },
      "execution_count": 8,
      "outputs": [
        {
          "output_type": "stream",
          "name": "stdout",
          "text": [
            "Masukkan angka: 77\n",
            "Bukan kelipatan 5\n"
          ]
        }
      ]
    },
    {
      "cell_type": "code",
      "source": [
        "tahun = int(input(\"Masukkan tahun: \"))\n",
        "if tahun % 400 == 0:\n",
        "    print(\"Tahun Kabisat\")\n",
        "elif tahun % 100 == 0:\n",
        "    print(\"Bukan Tahun Kabisat\")\n",
        "elif tahun % 4 == 0:\n",
        "    print(\"Tahun Kabisat\")\n",
        "else:\n",
        "    print(\"Bukan Tahun Kabisat\")"
      ],
      "metadata": {
        "colab": {
          "base_uri": "https://localhost:8080/"
        },
        "id": "t-B5aphBjbjh",
        "outputId": "ad339542-fa8d-4e76-e385-fae50c50d843"
      },
      "execution_count": 9,
      "outputs": [
        {
          "output_type": "stream",
          "name": "stdout",
          "text": [
            "Masukkan tahun: 1997\n",
            "Bukan Tahun Kabisat\n"
          ]
        }
      ]
    },
    {
      "cell_type": "code",
      "source": [
        "ongkir_dasar_per_kg = 15000\n",
        "berat_paket_kg = float(input(\"Masukkan berat paket (kg): \"))\n",
        "\n",
        "biaya_total = berat_paket_kg * ongkir_dasar_per_kg\n",
        "\n",
        "if berat_paket_kg > 5:\n",
        "    diskon = 5000\n",
        "    biaya_akhir = biaya_total - diskon\n",
        "    print(f\"Total ongkir awal: Rp {biaya_total:,.0f}\")\n",
        "    print(f\"Selamat! Anda mendapat diskon Rp {diskon:,.0f}!\")\n",
        "    print(f\"Total biaya akhir: Rp {biaya_akhir:,.0f}\")\n",
        "else:\n",
        "    print(f\"Total biaya pengiriman: Rp {biaya_total:,.0f}\")"
      ],
      "metadata": {
        "colab": {
          "base_uri": "https://localhost:8080/"
        },
        "id": "eoXv6vY3jkbS",
        "outputId": "975ce52f-1180-4b94-e10b-889ab69d5544"
      },
      "execution_count": 15,
      "outputs": [
        {
          "output_type": "stream",
          "name": "stdout",
          "text": [
            "Masukkan berat paket (kg): 99\n",
            "Total ongkir awal: Rp 1,485,000\n",
            "Selamat! Anda mendapat diskon Rp 5,000!\n",
            "Total biaya akhir: Rp 1,480,000\n"
          ]
        }
      ]
    },
    {
      "cell_type": "code",
      "source": [
        "bulan = int(input(\"Masukkan angka bulan (1-12): \"))\n",
        "\n",
        "if bulan == 1:\n",
        "    print(\"Januari\")\n",
        "elif bulan == 2:\n",
        "    print(\"Februari\")\n",
        "elif bulan == 3:\n",
        "    print(\"Maret\")\n",
        "elif bulan == 4:\n",
        "    print(\"April\")\n",
        "elif bulan == 5:\n",
        "    print(\"Mei\")\n",
        "elif bulan == 6:\n",
        "    print(\"Juni\")\n",
        "elif bulan == 7:\n",
        "    print(\"Juli\")\n",
        "elif bulan == 8:\n",
        "    print(\"Agustus\")\n",
        "elif bulan == 9:\n",
        "    print(\"September\")\n",
        "elif bulan == 10:\n",
        "    print(\"Oktober\")\n",
        "elif bulan == 11:\n",
        "    print(\"November\")\n",
        "elif bulan == 12:\n",
        "    print(\"Desember\")\n",
        "else:\n",
        "    print(\"Input salah\")#"
      ],
      "metadata": {
        "colab": {
          "base_uri": "https://localhost:8080/"
        },
        "id": "zj3Znk6mjp3p",
        "outputId": "1c687547-24b3-4640-efce-509a2102f292"
      },
      "execution_count": 12,
      "outputs": [
        {
          "output_type": "stream",
          "name": "stdout",
          "text": [
            "Masukkan angka bulan (1-12): 6\n",
            "Juni\n"
          ]
        }
      ]
    },
    {
      "cell_type": "code",
      "source": [
        "jam = int(input(\"Masukkan jam (0-23): \"))\n",
        "\n",
        "if 0 <= jam <= 11:\n",
        "    print(\"Selamat Pagi\")\n",
        "elif 12 <= jam <= 15:\n",
        "    print(\"Selamat Siang\")\n",
        "elif 16 <= jam <= 18:\n",
        "    print(\"Selamat Sore\")\n",
        "elif 19 <= jam <= 23:\n",
        "    print(\"Selamat Malam\")\n",
        "else:\n",
        "    print(\"Jam tidak valid\")"
      ],
      "metadata": {
        "colab": {
          "base_uri": "https://localhost:8080/"
        },
        "id": "wvypjzCzj4yo",
        "outputId": "8f9ae428-7d87-4f8f-d7d6-876c923de1e3"
      },
      "execution_count": 13,
      "outputs": [
        {
          "output_type": "stream",
          "name": "stdout",
          "text": [
            "Masukkan jam (0-23): 22\n",
            "Selamat Malam\n"
          ]
        }
      ]
    }
  ]
}